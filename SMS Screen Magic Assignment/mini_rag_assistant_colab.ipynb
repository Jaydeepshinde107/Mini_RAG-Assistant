{
  "cells": [
    {
      "cell_type": "markdown",
      "metadata": {},
      "source": [
        "# Mini RAG Assistant - Colab Notebook\n",
        "This notebook implements a simplified Retrieval-Augmented Generation (RAG) system using FAISS, Sentence Transformers, and OpenAI API."
      ]
    },
    {
      "cell_type": "code",
      "execution_count": null,
      "metadata": {},
      "outputs": [
        {
          "ename": "",
          "evalue": "",
          "output_type": "error",
          "traceback": [
            "\u001b[1;31mRunning cells with 'Python 3.10.11' requires the ipykernel package.\n",
            "\u001b[1;31m<a href='command:jupyter.createPythonEnvAndSelectController'>Create a Python Environment</a> with the required packages.\n",
            "\u001b[1;31mOr install 'ipykernel' using the command: 'c:/Users/HP/AppData/Local/Programs/Python/Python310/python.exe -m pip install ipykernel -U --user --force-reinstall'"
          ]
        }
      ],
      "source": [
        "# Step 1: Install dependencies\n",
        "!pip install sentence-transformers faiss-cpu openai pandas"
      ]
    },
    {
      "cell_type": "code",
      "execution_count": null,
      "metadata": {},
      "outputs": [],
      "source": [
        "# Step 2: Import libraries\n",
        "import openai\n",
        "import faiss\n",
        "import os\n",
        "import pandas as pd\n",
        "from datetime import datetime\n",
        "from sentence_transformers import SentenceTransformer\n",
        "from google.colab import files"
      ]
    },
    {
      "cell_type": "code",
      "execution_count": null,
      "metadata": {},
      "outputs": [],
      "source": [
        "# Step 3: Upload .txt/.md files\n",
        "uploaded = files.upload()\n",
        "documents = []\n",
        "for filename in uploaded:\n",
        "    with open(filename, 'r', encoding='utf-8') as f:\n",
        "        documents.append(f.read())"
      ]
    },
    {
      "cell_type": "code",
      "execution_count": null,
      "metadata": {},
      "outputs": [],
      "source": [
        "# Step 4: Chunk the text\n",
        "def chunk_text(text, chunk_size=300):\n",
        "    return [text[i:i+chunk_size] for i in range(0, len(text), chunk_size)]\n",
        "\n",
        "chunks = []\n",
        "for doc in documents:\n",
        "    chunks.extend(chunk_text(doc))\n",
        "print(f\"Total Chunks: {len(chunks)}\")"
      ]
    },
    {
      "cell_type": "code",
      "execution_count": null,
      "metadata": {},
      "outputs": [],
      "source": [
        "# Step 5: Generate embeddings and store in FAISS index\n",
        "model = SentenceTransformer('all-MiniLM-L6-v2')\n",
        "embeddings = model.encode(chunks)\n",
        "\n",
        "dim = embeddings.shape[1]\n",
        "index = faiss.IndexFlatL2(dim)\n",
        "index.add(embeddings)"
      ]
    },
    {
      "cell_type": "code",
      "execution_count": null,
      "metadata": {},
      "outputs": [],
      "source": [
        "# Step 6: Ask a question and retrieve top 2 relevant chunks\n",
        "question = input(\"Enter your question: \")\n",
        "q_embedding = model.encode([question])\n",
        "_, I = index.search(q_embedding, k=2)\n",
        "\n",
        "retrieved_chunks = [chunks[i] for i in I[0]]\n",
        "context = \"\\n\".join(retrieved_chunks)"
      ]
    },
    {
      "cell_type": "code",
      "execution_count": null,
      "metadata": {},
      "outputs": [],
      "source": [
        "# Step 7: Generate answer using OpenAI GPT\n",
        "openai.api_key = \"your-openai-api-key\"  # Replace this with your actual API key\n",
        "\n",
        "prompt = f\"\"\"Answer the question based on the following context:\n",
        "{context}\n",
        "\n",
        "Question: {question}\n",
        "Answer:\"\"\"\n",
        "\n",
        "response = openai.ChatCompletion.create(\n",
        "    model=\"gpt-3.5-turbo\",\n",
        "    messages=[{\"role\": \"user\", \"content\": prompt}]\n",
        ")\n",
        "\n",
        "answer = response['choices'][0]['message']['content']\n",
        "print(\"\\nAnswer:\\n\", answer)"
      ]
    },
    {
      "cell_type": "code",
      "execution_count": null,
      "metadata": {},
      "outputs": [],
      "source": [
        "# Step 8: Log the interaction\n",
        "log_entry = {\n",
        "    \"timestamp\": datetime.now(),\n",
        "    \"question\": question,\n",
        "    \"answer\": answer\n",
        "}\n",
        "\n",
        "log_df = pd.DataFrame([log_entry])\n",
        "log_df.to_csv(\"qa_log.csv\", mode='a', header=not os.path.exists(\"qa_log.csv\"), index=False)\n",
        "files.download(\"qa_log.csv\")"
      ]
    }
  ],
  "metadata": {
    "kernelspec": {
      "display_name": "Python 3",
      "language": "python",
      "name": "python3"
    },
    "language_info": {
      "name": "python",
      "version": "3.10.11"
    }
  },
  "nbformat": 4,
  "nbformat_minor": 5
}
